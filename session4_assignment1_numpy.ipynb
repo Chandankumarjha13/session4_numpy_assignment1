{
 "cells": [
  {
   "cell_type": "code",
   "execution_count": null,
   "metadata": {},
   "outputs": [],
   "source": [
    "Write a function so that the columns of the output matrix are powers of the input\n",
    "vector.\n",
    "The order of the powers is determined by the increasing boolean argument. Specifically,\n",
    "when increasing is False, the i-th output column is the input vector raised element-wise\n",
    "to the power of N - i - 1.\n",
    "\n",
    "HINT: Such a matrix with a geometric progression in each row is named for Alexandre-\n",
    "Theophile Vandermonde."
   ]
  },
  {
   "cell_type": "code",
   "execution_count": 1,
   "metadata": {},
   "outputs": [
    {
     "name": "stdout",
     "output_type": "stream",
     "text": [
      "[[  1   1   1   1]\n",
      " [  1   4  16  64]\n",
      " [  1   5  25 125]\n",
      " [  1   7  49 343]]\n"
     ]
    }
   ],
   "source": [
    "import numpy as np\n",
    "def out_matrix(in_vector):\n",
    "    x = np.array(in_vector)\n",
    "    N=len(x)\n",
    "    y = np.array([x**i for i in range(N)])\n",
    "    return(y.T)\n",
    "in_vector = [1,4,5,7]\n",
    "print(out_matrix(in_vector))"
   ]
  },
  {
   "cell_type": "code",
   "execution_count": null,
   "metadata": {},
   "outputs": [],
   "source": [
    "Output:\n",
    "[[  1   1   1   1]\n",
    " [  1   4  16  64]\n",
    " [  1   5  25 125]\n",
    " [  1   7  49 343]]"
   ]
  }
 ],
 "metadata": {
  "kernelspec": {
   "display_name": "Python 3",
   "language": "python",
   "name": "python3"
  },
  "language_info": {
   "codemirror_mode": {
    "name": "ipython",
    "version": 3
   },
   "file_extension": ".py",
   "mimetype": "text/x-python",
   "name": "python",
   "nbconvert_exporter": "python",
   "pygments_lexer": "ipython3",
   "version": "3.6.4"
  }
 },
 "nbformat": 4,
 "nbformat_minor": 2
}
